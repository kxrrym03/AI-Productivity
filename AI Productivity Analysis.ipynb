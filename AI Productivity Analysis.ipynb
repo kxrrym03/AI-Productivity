{
 "cells": [
  {
   "cell_type": "code",
   "execution_count": 1,
   "id": "47307d9e-2b10-40fe-95fa-887776ae09ed",
   "metadata": {},
   "outputs": [
    {
     "name": "stdout",
     "output_type": "stream",
     "text": [
      "   hours_coding  coffee_intake_mg  distractions  sleep_hours  commits  \\\n",
      "0          5.99               600             1          5.8        2   \n",
      "1          4.72               568             2          6.9        5   \n",
      "2          6.30               560             1          8.9        2   \n",
      "3          8.05               600             7          6.3        9   \n",
      "4          4.53               421             6          6.9        4   \n",
      "\n",
      "   bugs_reported  ai_usage_hours  cognitive_load  task_success  \n",
      "0              1            0.71             5.4             1  \n",
      "1              3            1.75             4.7             1  \n",
      "2              0            2.27             2.2             1  \n",
      "3              5            1.40             5.9             0  \n",
      "4              0            1.26             6.3             1  \n"
     ]
    },
    {
     "data": {
      "text/plain": [
       "(500, 9)"
      ]
     },
     "execution_count": 1,
     "metadata": {},
     "output_type": "execute_result"
    }
   ],
   "source": [
    "import pandas as pd\n",
    "import numpy as np\n",
    "import seaborn as sns\n",
    "import matplotlib.pyplot as plt\n",
    "\n",
    "df = pd.read_csv(r'C:\\Users\\Kerry\\ai_dev_productivity.csv')\n",
    "print(df.head())\n",
    "df.shape"
   ]
  },
  {
   "cell_type": "code",
   "execution_count": null,
   "id": "5abf8937-6171-460f-b2d2-cb556501cd25",
   "metadata": {},
   "outputs": [],
   "source": []
  }
 ],
 "metadata": {
  "kernelspec": {
   "display_name": "Python 3 (ipykernel)",
   "language": "python",
   "name": "python3"
  },
  "language_info": {
   "codemirror_mode": {
    "name": "ipython",
    "version": 3
   },
   "file_extension": ".py",
   "mimetype": "text/x-python",
   "name": "python",
   "nbconvert_exporter": "python",
   "pygments_lexer": "ipython3",
   "version": "3.12.7"
  }
 },
 "nbformat": 4,
 "nbformat_minor": 5
}
