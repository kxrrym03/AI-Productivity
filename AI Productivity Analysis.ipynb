{
 "cells": [
  {
   "cell_type": "code",
   "execution_count": 1,
   "id": "47307d9e-2b10-40fe-95fa-887776ae09ed",
   "metadata": {},
   "outputs": [
    {
     "name": "stdout",
     "output_type": "stream",
     "text": [
      "   hours_coding  coffee_intake_mg  distractions  sleep_hours  commits  \\\n",
      "0          5.99               600             1          5.8        2   \n",
      "1          4.72               568             2          6.9        5   \n",
      "2          6.30               560             1          8.9        2   \n",
      "3          8.05               600             7          6.3        9   \n",
      "4          4.53               421             6          6.9        4   \n",
      "\n",
      "   bugs_reported  ai_usage_hours  cognitive_load  task_success  \n",
      "0              1            0.71             5.4             1  \n",
      "1              3            1.75             4.7             1  \n",
      "2              0            2.27             2.2             1  \n",
      "3              5            1.40             5.9             0  \n",
      "4              0            1.26             6.3             1  \n"
     ]
    },
    {
     "data": {
      "text/plain": [
       "(500, 9)"
      ]
     },
     "execution_count": 1,
     "metadata": {},
     "output_type": "execute_result"
    }
   ],
   "source": [
    "import pandas as pd\n",
    "import numpy as np\n",
    "import seaborn as sns\n",
    "import matplotlib.pyplot as plt\n",
    "\n",
    "df = pd.read_csv(r'C:\\Users\\Kerry\\ai_dev_productivity.csv')\n",
    "print(df.head())\n",
    "df.shape"
   ]
  },
  {
   "cell_type": "code",
   "execution_count": 2,
   "id": "5abf8937-6171-460f-b2d2-cb556501cd25",
   "metadata": {},
   "outputs": [
    {
     "data": {
      "text/plain": [
       "hours_coding        0\n",
       "coffee_intake_mg    0\n",
       "distractions        0\n",
       "sleep_hours         0\n",
       "commits             0\n",
       "bugs_reported       0\n",
       "ai_usage_hours      0\n",
       "cognitive_load      0\n",
       "task_success        0\n",
       "dtype: int64"
      ]
     },
     "execution_count": 2,
     "metadata": {},
     "output_type": "execute_result"
    }
   ],
   "source": [
    "df.isnull().sum()"
   ]
  },
  {
   "cell_type": "code",
   "execution_count": 4,
   "id": "cdebfbf4-5fb3-4624-a2f6-04111c077734",
   "metadata": {},
   "outputs": [
    {
     "data": {
      "text/plain": [
       "0"
      ]
     },
     "execution_count": 4,
     "metadata": {},
     "output_type": "execute_result"
    }
   ],
   "source": [
    "df.duplicated().sum()"
   ]
  },
  {
   "cell_type": "code",
   "execution_count": 5,
   "id": "bd88ab78-7647-4f0d-8dd9-121cd1dd6c80",
   "metadata": {},
   "outputs": [
    {
     "data": {
      "text/html": [
       "<div>\n",
       "<style scoped>\n",
       "    .dataframe tbody tr th:only-of-type {\n",
       "        vertical-align: middle;\n",
       "    }\n",
       "\n",
       "    .dataframe tbody tr th {\n",
       "        vertical-align: top;\n",
       "    }\n",
       "\n",
       "    .dataframe thead th {\n",
       "        text-align: right;\n",
       "    }\n",
       "</style>\n",
       "<table border=\"1\" class=\"dataframe\">\n",
       "  <thead>\n",
       "    <tr style=\"text-align: right;\">\n",
       "      <th></th>\n",
       "      <th>hours_coding</th>\n",
       "      <th>coffee_intake_mg</th>\n",
       "      <th>distractions</th>\n",
       "      <th>sleep_hours</th>\n",
       "      <th>commits</th>\n",
       "      <th>bugs_reported</th>\n",
       "      <th>ai_usage_hours</th>\n",
       "      <th>cognitive_load</th>\n",
       "      <th>task_success</th>\n",
       "    </tr>\n",
       "  </thead>\n",
       "  <tbody>\n",
       "    <tr>\n",
       "      <th>count</th>\n",
       "      <td>500.000000</td>\n",
       "      <td>500.000000</td>\n",
       "      <td>500.000000</td>\n",
       "      <td>500.000000</td>\n",
       "      <td>500.00000</td>\n",
       "      <td>500.000000</td>\n",
       "      <td>500.000000</td>\n",
       "      <td>500.000000</td>\n",
       "      <td>500.000000</td>\n",
       "    </tr>\n",
       "    <tr>\n",
       "      <th>mean</th>\n",
       "      <td>5.015600</td>\n",
       "      <td>463.192000</td>\n",
       "      <td>2.976000</td>\n",
       "      <td>6.975800</td>\n",
       "      <td>4.60800</td>\n",
       "      <td>0.858000</td>\n",
       "      <td>1.510920</td>\n",
       "      <td>4.498200</td>\n",
       "      <td>0.606000</td>\n",
       "    </tr>\n",
       "    <tr>\n",
       "      <th>std</th>\n",
       "      <td>1.947253</td>\n",
       "      <td>142.334991</td>\n",
       "      <td>1.678409</td>\n",
       "      <td>1.455965</td>\n",
       "      <td>2.70499</td>\n",
       "      <td>1.102846</td>\n",
       "      <td>1.085557</td>\n",
       "      <td>1.868861</td>\n",
       "      <td>0.489124</td>\n",
       "    </tr>\n",
       "    <tr>\n",
       "      <th>min</th>\n",
       "      <td>0.000000</td>\n",
       "      <td>6.000000</td>\n",
       "      <td>0.000000</td>\n",
       "      <td>3.000000</td>\n",
       "      <td>0.00000</td>\n",
       "      <td>0.000000</td>\n",
       "      <td>0.000000</td>\n",
       "      <td>1.000000</td>\n",
       "      <td>0.000000</td>\n",
       "    </tr>\n",
       "    <tr>\n",
       "      <th>25%</th>\n",
       "      <td>3.600000</td>\n",
       "      <td>369.500000</td>\n",
       "      <td>2.000000</td>\n",
       "      <td>6.100000</td>\n",
       "      <td>3.00000</td>\n",
       "      <td>0.000000</td>\n",
       "      <td>0.697500</td>\n",
       "      <td>3.175000</td>\n",
       "      <td>0.000000</td>\n",
       "    </tr>\n",
       "    <tr>\n",
       "      <th>50%</th>\n",
       "      <td>5.030000</td>\n",
       "      <td>500.500000</td>\n",
       "      <td>3.000000</td>\n",
       "      <td>6.950000</td>\n",
       "      <td>5.00000</td>\n",
       "      <td>0.000000</td>\n",
       "      <td>1.260000</td>\n",
       "      <td>4.400000</td>\n",
       "      <td>1.000000</td>\n",
       "    </tr>\n",
       "    <tr>\n",
       "      <th>75%</th>\n",
       "      <td>6.275000</td>\n",
       "      <td>600.000000</td>\n",
       "      <td>4.000000</td>\n",
       "      <td>7.900000</td>\n",
       "      <td>6.00000</td>\n",
       "      <td>2.000000</td>\n",
       "      <td>2.070000</td>\n",
       "      <td>5.800000</td>\n",
       "      <td>1.000000</td>\n",
       "    </tr>\n",
       "    <tr>\n",
       "      <th>max</th>\n",
       "      <td>12.000000</td>\n",
       "      <td>600.000000</td>\n",
       "      <td>8.000000</td>\n",
       "      <td>10.000000</td>\n",
       "      <td>13.00000</td>\n",
       "      <td>5.000000</td>\n",
       "      <td>6.360000</td>\n",
       "      <td>10.000000</td>\n",
       "      <td>1.000000</td>\n",
       "    </tr>\n",
       "  </tbody>\n",
       "</table>\n",
       "</div>"
      ],
      "text/plain": [
       "       hours_coding  coffee_intake_mg  distractions  sleep_hours    commits  \\\n",
       "count    500.000000        500.000000    500.000000   500.000000  500.00000   \n",
       "mean       5.015600        463.192000      2.976000     6.975800    4.60800   \n",
       "std        1.947253        142.334991      1.678409     1.455965    2.70499   \n",
       "min        0.000000          6.000000      0.000000     3.000000    0.00000   \n",
       "25%        3.600000        369.500000      2.000000     6.100000    3.00000   \n",
       "50%        5.030000        500.500000      3.000000     6.950000    5.00000   \n",
       "75%        6.275000        600.000000      4.000000     7.900000    6.00000   \n",
       "max       12.000000        600.000000      8.000000    10.000000   13.00000   \n",
       "\n",
       "       bugs_reported  ai_usage_hours  cognitive_load  task_success  \n",
       "count     500.000000      500.000000      500.000000    500.000000  \n",
       "mean        0.858000        1.510920        4.498200      0.606000  \n",
       "std         1.102846        1.085557        1.868861      0.489124  \n",
       "min         0.000000        0.000000        1.000000      0.000000  \n",
       "25%         0.000000        0.697500        3.175000      0.000000  \n",
       "50%         0.000000        1.260000        4.400000      1.000000  \n",
       "75%         2.000000        2.070000        5.800000      1.000000  \n",
       "max         5.000000        6.360000       10.000000      1.000000  "
      ]
     },
     "execution_count": 5,
     "metadata": {},
     "output_type": "execute_result"
    }
   ],
   "source": [
    "df.describe()"
   ]
  },
  {
   "cell_type": "code",
   "execution_count": 6,
   "id": "c7d00504-262b-4377-9c53-aafbb59d2817",
   "metadata": {},
   "outputs": [
    {
     "data": {
      "text/plain": [
       "Index(['hours_coding', 'coffee_intake_mg', 'distractions', 'sleep_hours',\n",
       "       'commits', 'bugs_reported', 'ai_usage_hours', 'cognitive_load',\n",
       "       'task_success'],\n",
       "      dtype='object')"
      ]
     },
     "execution_count": 6,
     "metadata": {},
     "output_type": "execute_result"
    }
   ],
   "source": [
    "df.columns"
   ]
  },
  {
   "cell_type": "code",
   "execution_count": 7,
   "id": "5d64b2a7-6e84-4e15-bbf3-3c40eac87f54",
   "metadata": {},
   "outputs": [
    {
     "name": "stdout",
     "output_type": "stream",
     "text": [
      "<class 'pandas.core.frame.DataFrame'>\n",
      "RangeIndex: 500 entries, 0 to 499\n",
      "Data columns (total 9 columns):\n",
      " #   Column            Non-Null Count  Dtype  \n",
      "---  ------            --------------  -----  \n",
      " 0   hours_coding      500 non-null    float64\n",
      " 1   coffee_intake_mg  500 non-null    int64  \n",
      " 2   distractions      500 non-null    int64  \n",
      " 3   sleep_hours       500 non-null    float64\n",
      " 4   commits           500 non-null    int64  \n",
      " 5   bugs_reported     500 non-null    int64  \n",
      " 6   ai_usage_hours    500 non-null    float64\n",
      " 7   cognitive_load    500 non-null    float64\n",
      " 8   task_success      500 non-null    int64  \n",
      "dtypes: float64(4), int64(5)\n",
      "memory usage: 35.3 KB\n"
     ]
    }
   ],
   "source": [
    "df.info()"
   ]
  },
  {
   "cell_type": "code",
   "execution_count": 9,
   "id": "16bd5370-95a7-40d3-ba56-44a77fa256f2",
   "metadata": {},
   "outputs": [
    {
     "data": {
      "image/png": "[encoded data removed]",
      "text/plain": [
       "<Figure size 640x480 with 1 Axes>"
      ]
     },
     "metadata": {},
     "output_type": "display_data"
    }
   ],
   "source": [
    "sns.countplot(data=df, x='distractions')\n",
    "plt.title('Count of Distractions')\n",
    "plt.xticks(rotation=45, ha='right')  \n",
    "plt.tight_layout()  \n",
    "plt.show()\n"
   ]
  },
  {
   "cell_type": "code",
   "execution_count": null,
   "id": "c89ef9e7-1b5a-4afe-af0e-308f9a79e525",
   "metadata": {},
   "outputs": [],
   "source": []
  }
 ],
 "metadata": {
  "kernelspec": {
   "display_name": "Python 3 (ipykernel)",
   "language": "python",
   "name": "python3"
  },
  "language_info": {
   "codemirror_mode": {
    "name": "ipython",
    "version": 3
   },
   "file_extension": ".py",
   "mimetype": "text/x-python",
   "name": "python",
   "nbconvert_exporter": "python",
   "pygments_lexer": "ipython3",
   "version": "3.12.7"
  }
 },
 "nbformat": 4,
 "nbformat_minor": 5
}
